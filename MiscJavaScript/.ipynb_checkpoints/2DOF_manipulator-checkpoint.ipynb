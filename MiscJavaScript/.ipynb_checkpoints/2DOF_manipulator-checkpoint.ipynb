{
 "cells": [
  {
   "cell_type": "code",
   "execution_count": 16,
   "metadata": {
    "collapsed": true
   },
   "outputs": [],
   "source": [
    "import numpy as np\n",
    "import math\n",
    "import matplotlib.pyplot as plt\n",
    "import sys\n"
   ]
  },
  {
   "cell_type": "code",
   "execution_count": 10,
   "metadata": {
    "collapsed": true
   },
   "outputs": [],
   "source": [
    "l1 = 10\n",
    "l2 = 10\n",
    "\n",
    "#define obstacle co-ordinates\n",
    "obstacleVector = np.matrix([[5 , 0],[0,5]]).T\n",
    "obstacleRadius = 0.5"
   ]
  },
  {
   "cell_type": "code",
   "execution_count": 5,
   "metadata": {
    "collapsed": true
   },
   "outputs": [],
   "source": [
    "#2DOF planar Arm forward Kinematics\n",
    "def forwardKinematics(q):\n",
    "\tt1 = float(q[0])\n",
    "\tt2 = float(q[1])\n",
    "\tx1 = l1*math.cos(t1)\n",
    "\ty1 = l1*math.sin(t1)\n",
    "\txEE = l1*math.cos(t1) + l2*math.cos(t1+t2) \n",
    "\tyEE = l1*math.sin(t1) + l2*math.sin(t1+t2)\n",
    "\treturn (x1,y1,xEE,yEE)"
   ]
  },
  {
   "cell_type": "code",
   "execution_count": 11,
   "metadata": {
    "collapsed": true
   },
   "outputs": [],
   "source": [
    "#distance of i_th obstacle from j_th link\n",
    "def getDistanceFromObstacle(i,j,q):\n",
    "\tx1 , y1 , xEE, yEE = forwardKinematics(q)\n",
    "\txObstacle = float(obstacleVector[0,i])\n",
    "\tyObstacle = float(obstacleVector[1,i])\n",
    "\tif (j == 1):\n",
    "\t\tp1 = 0\n",
    "\t\tp2 = 0\n",
    "\t\tq1 = x1\n",
    "\t\tq2 = y1\n",
    "\telif (j == 2 ):\n",
    "\t\tp1 = x1\n",
    "\t\tp2 = y1\n",
    "\t\tq1 = xEE\n",
    "\t\tq2 = yEE\n",
    "\tOS = 0\n",
    "\tiCap = np.array([q1-p1 , q2-p2])\n",
    "\tPQ = np.linalg.norm(iCap)\n",
    "\tiCap = iCap/PQ\n",
    "\tPO = np.array([xObstacle - p1, yObstacle -p2])\n",
    "\tPS = np.vdot(PO , iCap)\n",
    "\tif PS > 0 and PS < PQ:\n",
    "\t\tOS = math.sqrt(np.linalg.norm(PO)**2 - np.linalg.norm(PS)**2 )\n",
    "\telif PS > 0 and PS > PQ:\n",
    "\t\tOS = math.sqrt((xObstacle-q1)**2 + (yObstacle-q2)**2)\n",
    "\telif PS < 0 :\n",
    "\t\tOS = math.sqrt((xObstacle-p1)**2 + (yObstacle-p2)**2)\n",
    "\treturn OS"
   ]
  },
  {
   "cell_type": "code",
   "execution_count": 18,
   "metadata": {},
   "outputs": [
    {
     "ename": "ValueError",
     "evalue": "math domain error",
     "output_type": "error",
     "traceback": [
      "\u001b[1;31m---------------------------------------------------------------------------\u001b[0m",
      "\u001b[1;31mValueError\u001b[0m                                Traceback (most recent call last)",
      "\u001b[1;32m<ipython-input-18-7836990722b0>\u001b[0m in \u001b[0;36m<module>\u001b[1;34m()\u001b[0m\n\u001b[0;32m     10\u001b[0m \u001b[0mb\u001b[0m \u001b[1;33m=\u001b[0m \u001b[0mz\u001b[0m\u001b[1;33m;\u001b[0m\u001b[1;33m\u001b[0m\u001b[0m\n\u001b[0;32m     11\u001b[0m \u001b[1;33m\u001b[0m\u001b[0m\n\u001b[1;32m---> 12\u001b[1;33m \u001b[0mang3\u001b[0m \u001b[1;33m=\u001b[0m \u001b[1;33m-\u001b[0m\u001b[0mmath\u001b[0m\u001b[1;33m.\u001b[0m\u001b[0matan2\u001b[0m\u001b[1;33m(\u001b[0m\u001b[0mmath\u001b[0m\u001b[1;33m.\u001b[0m\u001b[0msqrt\u001b[0m\u001b[1;33m(\u001b[0m\u001b[1;36m1\u001b[0m \u001b[1;33m-\u001b[0m \u001b[1;33m(\u001b[0m\u001b[1;33m(\u001b[0m\u001b[0ma\u001b[0m\u001b[1;33m**\u001b[0m\u001b[1;36m2\u001b[0m \u001b[1;33m+\u001b[0m \u001b[0mb\u001b[0m\u001b[1;33m**\u001b[0m\u001b[1;36m2\u001b[0m \u001b[1;33m-\u001b[0m \u001b[0ml1\u001b[0m\u001b[1;33m**\u001b[0m\u001b[1;36m2\u001b[0m \u001b[1;33m-\u001b[0m\u001b[0ml2\u001b[0m\u001b[1;33m**\u001b[0m\u001b[1;36m2\u001b[0m\u001b[1;33m)\u001b[0m\u001b[1;33m/\u001b[0m\u001b[1;33m(\u001b[0m\u001b[1;36m2\u001b[0m\u001b[1;33m*\u001b[0m\u001b[0ml1\u001b[0m\u001b[1;33m*\u001b[0m\u001b[0ml2\u001b[0m\u001b[1;33m)\u001b[0m\u001b[1;33m)\u001b[0m\u001b[1;33m**\u001b[0m\u001b[1;36m2\u001b[0m\u001b[1;33m)\u001b[0m\u001b[1;33m,\u001b[0m \u001b[1;33m(\u001b[0m\u001b[0ma\u001b[0m\u001b[1;33m**\u001b[0m\u001b[1;36m2\u001b[0m \u001b[1;33m+\u001b[0m \u001b[0mb\u001b[0m\u001b[1;33m**\u001b[0m\u001b[1;36m2\u001b[0m \u001b[1;33m-\u001b[0m \u001b[0ml1\u001b[0m\u001b[1;33m**\u001b[0m\u001b[1;36m2\u001b[0m \u001b[1;33m-\u001b[0m \u001b[0ml2\u001b[0m\u001b[1;33m**\u001b[0m\u001b[1;36m2\u001b[0m\u001b[1;33m)\u001b[0m\u001b[1;33m/\u001b[0m\u001b[1;33m(\u001b[0m\u001b[1;36m2\u001b[0m\u001b[1;33m*\u001b[0m\u001b[0ml1\u001b[0m\u001b[1;33m*\u001b[0m\u001b[0ml2\u001b[0m\u001b[1;33m)\u001b[0m\u001b[1;33m)\u001b[0m\u001b[1;33m;\u001b[0m\u001b[1;33m\u001b[0m\u001b[0m\n\u001b[0m\u001b[0;32m     13\u001b[0m \u001b[0mang2\u001b[0m \u001b[1;33m=\u001b[0m \u001b[0mmath\u001b[0m\u001b[1;33m.\u001b[0m\u001b[0matan2\u001b[0m\u001b[1;33m(\u001b[0m\u001b[0mmath\u001b[0m\u001b[1;33m.\u001b[0m\u001b[0msqrt\u001b[0m\u001b[1;33m(\u001b[0m\u001b[1;36m1\u001b[0m \u001b[1;33m-\u001b[0m \u001b[1;33m(\u001b[0m \u001b[1;33m(\u001b[0m\u001b[0ma\u001b[0m\u001b[1;33m*\u001b[0m\u001b[1;33m(\u001b[0m\u001b[0ml1\u001b[0m \u001b[1;33m+\u001b[0m \u001b[0ml2\u001b[0m\u001b[1;33m*\u001b[0m\u001b[0mmath\u001b[0m\u001b[1;33m.\u001b[0m\u001b[0mcos\u001b[0m\u001b[1;33m(\u001b[0m\u001b[0mang3\u001b[0m\u001b[1;33m)\u001b[0m\u001b[1;33m)\u001b[0m \u001b[1;33m+\u001b[0m \u001b[0mb\u001b[0m\u001b[1;33m*\u001b[0m\u001b[0ml2\u001b[0m\u001b[1;33m*\u001b[0m\u001b[0mmath\u001b[0m\u001b[1;33m.\u001b[0m\u001b[0msin\u001b[0m\u001b[1;33m(\u001b[0m\u001b[0mang3\u001b[0m\u001b[1;33m)\u001b[0m\u001b[1;33m)\u001b[0m\u001b[1;33m/\u001b[0m\u001b[1;33m(\u001b[0m\u001b[0ma\u001b[0m\u001b[1;33m**\u001b[0m\u001b[1;36m2\u001b[0m \u001b[1;33m+\u001b[0m \u001b[0mb\u001b[0m\u001b[1;33m**\u001b[0m\u001b[1;36m2\u001b[0m\u001b[1;33m)\u001b[0m\u001b[1;33m)\u001b[0m\u001b[1;33m**\u001b[0m\u001b[1;36m2\u001b[0m\u001b[1;33m)\u001b[0m\u001b[1;33m,\u001b[0m \u001b[1;33m(\u001b[0m\u001b[0ma\u001b[0m\u001b[1;33m*\u001b[0m\u001b[1;33m(\u001b[0m\u001b[0ml1\u001b[0m \u001b[1;33m+\u001b[0m \u001b[0ml2\u001b[0m\u001b[1;33m*\u001b[0m\u001b[0mmath\u001b[0m\u001b[1;33m.\u001b[0m\u001b[0mcos\u001b[0m\u001b[1;33m(\u001b[0m\u001b[0mang3\u001b[0m\u001b[1;33m)\u001b[0m\u001b[1;33m)\u001b[0m \u001b[1;33m+\u001b[0m \u001b[0mb\u001b[0m\u001b[1;33m*\u001b[0m\u001b[0ml2\u001b[0m\u001b[1;33m*\u001b[0m\u001b[0mmath\u001b[0m\u001b[1;33m.\u001b[0m\u001b[0msin\u001b[0m\u001b[1;33m(\u001b[0m\u001b[0mang3\u001b[0m\u001b[1;33m)\u001b[0m\u001b[1;33m)\u001b[0m\u001b[1;33m/\u001b[0m\u001b[1;33m(\u001b[0m\u001b[0ma\u001b[0m\u001b[1;33m**\u001b[0m\u001b[1;36m2\u001b[0m \u001b[1;33m+\u001b[0m \u001b[0mb\u001b[0m\u001b[1;33m**\u001b[0m\u001b[1;36m2\u001b[0m\u001b[1;33m)\u001b[0m \u001b[1;33m)\u001b[0m\u001b[1;33m;\u001b[0m\u001b[1;33m\u001b[0m\u001b[0m\n\u001b[0;32m     14\u001b[0m \u001b[1;33m\u001b[0m\u001b[0m\n",
      "\u001b[1;31mValueError\u001b[0m: math domain error"
     ]
    }
   ],
   "source": [
    "l1 = 12\n",
    "l2 = 17\n",
    "\n",
    "x = 2\n",
    "y = 2\n",
    "z = 2\n",
    "\n",
    "ang1 = math.atan2(y,x);\n",
    "a = math.sqrt(x**2 + y**2);\n",
    "b = z;\n",
    " \n",
    "ang3 = -math.atan2(math.sqrt(1 - ((a**2 + b**2 - l1**2 -l2**2)/(2*l1*l2))**2), (a**2 + b**2 - l1**2 - l2**2)/(2*l1*l2));\n",
    "ang2 = math.atan2(math.sqrt(1 - ( (a*(l1 + l2*math.cos(ang3)) + b*l2*math.sin(ang3))/(a**2 + b**2))**2), (a*(l1 + l2*math.cos(ang3)) + b*l2*math.sin(ang3))/(a**2 + b**2) );\n",
    "\n",
    "#print angle in degrees\n",
    "print (ang1*180/math.pi)\n",
    "print (ang2*180/math.pi)\n",
    "print (ang3*180/math.pi)\n",
    "\n",
    "#2DOF planar Arm forward Kinematics\n",
    "def forwardKinematics(q):\n",
    "\tt1 = float(q[0])\n",
    "\tt2 = float(q[1])\n",
    "\tx1 = l1*math.cos(t1)\n",
    "\ty1 = l1*math.sin(t1)\n",
    "\txEE = l1*math.cos(t1) + l2*math.cos(t1+t2) \n",
    "\tyEE = l1*math.sin(t1) + l2*math.sin(t1+t2)\n",
    "\treturn (x1,y1,xEE,yEE)\n",
    "\n",
    "plt.figure(1)\n",
    "plt.axis('equal')\n",
    "\n",
    "\n",
    "q = np.matrix([ang2 , ang3]).T\n",
    "\n",
    "x1 ,y1 , xEE, yEE = forwardKinematics(q)\n",
    "print (xEE*math.cos(ang1))\n",
    "print (xEE*math.sin(ang1))\n",
    "plt.plot([0,x1,xEE] , [0,y1,yEE], 'k')\n",
    "plt.show()\n"
   ]
  },
  {
   "cell_type": "code",
   "execution_count": 8,
   "metadata": {},
   "outputs": [
    {
     "data": {
      "text/html": [
       "<script src=\"math.min.js\" type=\"text/javascript\"></script><script>var a = math.cos(0);console.log(a);</script>"
      ],
      "text/plain": [
       "<IPython.core.display.HTML object>"
      ]
     },
     "execution_count": 8,
     "metadata": {},
     "output_type": "execute_result"
    }
   ],
   "source": [
    "from  IPython.core.display import HTML \n",
    "HTML('<script src=\"math.min.js\" type=\"text/javascript\"></script><script>var a = math.cos(0);console.log(a);</script>')"
   ]
  }
 ],
 "metadata": {
  "kernelspec": {
   "display_name": "Python 3",
   "language": "python",
   "name": "python3"
  },
  "language_info": {
   "codemirror_mode": {
    "name": "ipython",
    "version": 3
   },
   "file_extension": ".py",
   "mimetype": "text/x-python",
   "name": "python",
   "nbconvert_exporter": "python",
   "pygments_lexer": "ipython3",
   "version": "3.6.5"
  }
 },
 "nbformat": 4,
 "nbformat_minor": 2
}

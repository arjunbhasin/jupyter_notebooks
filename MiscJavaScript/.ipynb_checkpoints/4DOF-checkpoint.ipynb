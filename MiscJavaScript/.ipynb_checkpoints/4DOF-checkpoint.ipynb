{
 "cells": [
  {
   "cell_type": "code",
   "execution_count": 1,
   "metadata": {
    "collapsed": true
   },
   "outputs": [],
   "source": [
    "import numpy as np\n",
    "import math\n",
    "import matplotlib.pyplot as plt\n",
    "import scipy.optimize "
   ]
  },
  {
   "cell_type": "markdown",
   "metadata": {},
   "source": [
    "$$l_1=10 \\\\ l_2=8 \\\\ l_3=6 \\\\ l_4=4$$"
   ]
  },
  {
   "cell_type": "code",
   "execution_count": 2,
   "metadata": {
    "collapsed": true
   },
   "outputs": [],
   "source": [
    "l1 = 10.0\n",
    "l2 = 8.0\n",
    "l3 = 6.0\n",
    "l4 = 4.0"
   ]
  },
  {
   "cell_type": "code",
   "execution_count": 13,
   "metadata": {
    "collapsed": true
   },
   "outputs": [],
   "source": [
    "#4DOF planar Arm forward Kinematics\n",
    "def forwardKinematics(q):\n",
    "    t1 = float(q[0])\n",
    "    t2 = float(q[1])\n",
    "    t3 = float(q[2])\n",
    "    t4 = float(q[3])\n",
    "    # \n",
    "    x1 = l1*math.cos(t1)\n",
    "    y1 = l1*math.sin(t1)\n",
    "    #\n",
    "    x2 = l1*math.cos(t1) + l2*math.cos(t1+t2) \n",
    "    y2 = l1*math.sin(t1) + l2*math.sin(t1+t2)\n",
    "\n",
    "    x3 = l1*math.cos(t1) + l2*math.cos(t1+t2) + l3*math.cos(t1+t2+t3)\n",
    "    y3 = l1*math.sin(t1) + l2*math.sin(t1+t2) + l3*math.sin(t1+t2+t3)\n",
    "\n",
    "    xEE = l1*math.cos(t1) + l2*math.cos(t1+t2) + l3*math.cos(t1+t2+t3) + l4*math.cos(t1+t2+t3+t4)\n",
    "    yEE = l1*math.sin(t1) + l2*math.sin(t1+t2) + l3*math.sin(t1+t2+t3)+ l4*math.sin(t1+t2+t3+t4)\n",
    "    return x1,y1,x2,y2,x3,y3,xEE,yEE"
   ]
  },
  {
   "cell_type": "markdown",
   "metadata": {},
   "source": [
    "$$ \\frac{\\partial x}{\\partial q_1} =  l_1 sin(q_1)$$"
   ]
  },
  {
   "cell_type": "code",
   "execution_count": 11,
   "metadata": {},
   "outputs": [],
   "source": [
    "def getJacobianMatrix(q):\n",
    "# \tt1 = q[0]\n",
    "# \tt2 = q[1]\n",
    "# \tt3 = q[2]\n",
    "# \tt4 = q[3]\n",
    "    # Jacobian\n",
    "    # yEE= l1*math.sin(t1) + l2*math.sin(t1+t2) + l3*math.sin(t1+t2+t3) + l4*math.sin(t1+t2+t3+t4)\n",
    "    # xEE = l1*math.cos(t1) + l2*math.cos(t1+t2) + l3*math.cos(t1+t2+t3) + l4*math.cos(t1+t2+t3+t4)\n",
    "    \n",
    "    # l2*math.sin(t1+t2)+l3*math.sin(t1+t2+t3)+ l4*math.sin(t1+t2+t3+t4)\n",
    "    # l2*math.cos(t1+t2)+l3*math.cos(t1+t2+t3) + l4*math.cos(t1+t2+t3+t4)\n",
    "    \n",
    "    #\n",
    "    # l3*math.cos(t1+t2+t3) + l4*math.cos(t1+t2+t3+t4) = xEE - x2\n",
    "    \n",
    "    x1, y1, x2, y2, x3, y3, xEE, yEE = forwardKinematics(q)\n",
    "    \n",
    "    J = np.matrix([[-yEE , y1-yEE, y2-yEE, y3-yEE],\n",
    "                   [xEE, xEE-x1, xEE-x2, xEE-x3]])\n",
    "    return J"
   ]
  },
  {
   "cell_type": "code",
   "execution_count": 5,
   "metadata": {
    "collapsed": true
   },
   "outputs": [],
   "source": [
    "def getW1Manipulability(q):\n",
    "    J = getJacobianMatrix(q)\n",
    "    w1 = math.sqrt(np.linalg.det(J*J.T))\n",
    "    return w1"
   ]
  },
  {
   "cell_type": "code",
   "execution_count": 19,
   "metadata": {
    "collapsed": true
   },
   "outputs": [],
   "source": [
    "def getPseudoInverse(J):\n",
    "    U, S ,V_T = np.linalg.svd(J)\n",
    "    V = V_T.T\n",
    "    S_inv = np.linalg.inv(S)\n",
    "    return V * S_inv * U"
   ]
  },
  {
   "cell_type": "code",
   "execution_count": 6,
   "metadata": {},
   "outputs": [],
   "source": [
    "def getW1Grad(q):\n",
    "\tJ = getJacobianMatrix(q)\n",
    "\tJJT = math.sqrt(np.linalg.det(J*J.T))\n",
    "\tinc = 0.001\n",
    "\tqInc = np.matrix([float(q[0]) + inc, float(q[1]), float(q[2]) , float(q[3]) ]).T\n",
    "\tJInc = getJacobianMatrix(qInc)\n",
    "\tdelW1_1 =  (math.sqrt(np.linalg.det(JInc*JInc.T)) - JJT)/inc\n",
    "\n",
    "\tqInc = np.matrix([float(q[0]) , float(q[1]) + inc, float(q[2]) , float(q[3]) ]).T\n",
    "\tJInc = getJacobianMatrix(qInc)\n",
    "\tdelW1_2 =  (math.sqrt(np.linalg.det(JInc*JInc.T)) - JJT)/inc\n",
    "\n",
    "\tqInc = np.matrix([float(q[0]) , float(q[1]) , float(q[2])+inc , float(q[3]) ]).T\n",
    "\tJInc = getJacobianMatrix(qInc)\n",
    "\tdelW1_3 =  (math.sqrt(np.linalg.det(JInc*JInc.T)) - JJT)/inc\n",
    "\n",
    "\tqInc = np.matrix([float(q[0]) , float(q[1]) , float(q[2]), float(q[3])+inc ]).T\n",
    "\tJInc = getJacobianMatrix(qInc)\n",
    "\tdelW1_4 =  (math.sqrt(np.linalg.det(JInc*JInc.T)) - JJT)/inc\n",
    "\n",
    "\tq0 = np.matrix([float(delW1_1),float(delW1_2),float(delW1_3), float(delW1_4)]).T\n",
    "\tq0 = q0/np.linalg.norm(q0)\n",
    "\treturn q0\n",
    "\n",
    "\n",
    "def objectiveFunction(x):\n",
    "\t#w1 = getW1Manipulability(x)\n",
    "\treturn  (x[0]**2 + x[1]**2 + x[2]**2 + x[3]**2)/2 \n",
    "\t#return -w1\n",
    "\n",
    "def constraint(x):\n",
    "\treturn getW1Manipulability(x) - 230\n",
    "\n",
    "def getMaxW1(q):\n",
    "\tq0 = q\n",
    "\txopt = scipy.optimize.fmin_cobyla(objectiveFunction, [q0],[constraint] , rhoend = 1e-8)\n",
    "\tprint (xopt*180/math.pi)\n",
    "\treturn xopt\n"
   ]
  },
  {
   "cell_type": "code",
   "execution_count": 20,
   "metadata": {},
   "outputs": [
    {
     "ename": "LinAlgError",
     "evalue": "1-dimensional array given. Array must be at least two-dimensional",
     "output_type": "error",
     "traceback": [
      "\u001b[1;31m---------------------------------------------------------------------------\u001b[0m",
      "\u001b[1;31mLinAlgError\u001b[0m                               Traceback (most recent call last)",
      "\u001b[1;32m<ipython-input-20-9e8459cc0d6a>\u001b[0m in \u001b[0;36m<module>\u001b[1;34m()\u001b[0m\n\u001b[0;32m     13\u001b[0m \u001b[1;32mfor\u001b[0m \u001b[0mt\u001b[0m \u001b[1;32min\u001b[0m \u001b[0mrange\u001b[0m\u001b[1;33m(\u001b[0m\u001b[1;36m1\u001b[0m\u001b[1;33m,\u001b[0m\u001b[1;36m130\u001b[0m\u001b[1;33m)\u001b[0m\u001b[1;33m:\u001b[0m\u001b[1;33m\u001b[0m\u001b[0m\n\u001b[0;32m     14\u001b[0m         \u001b[0mJ\u001b[0m \u001b[1;33m=\u001b[0m \u001b[0mgetJacobianMatrix\u001b[0m\u001b[1;33m(\u001b[0m\u001b[0mq\u001b[0m\u001b[1;33m)\u001b[0m\u001b[1;33m\u001b[0m\u001b[0m\n\u001b[1;32m---> 15\u001b[1;33m         \u001b[0mJPlus\u001b[0m \u001b[1;33m=\u001b[0m \u001b[0mgetPseudoInverse\u001b[0m\u001b[1;33m(\u001b[0m\u001b[0mJ\u001b[0m\u001b[1;33m)\u001b[0m\u001b[1;33m\u001b[0m\u001b[0m\n\u001b[0m\u001b[0;32m     16\u001b[0m \u001b[1;33m\u001b[0m\u001b[0m\n\u001b[0;32m     17\u001b[0m         \u001b[0mgrad\u001b[0m \u001b[1;33m=\u001b[0m \u001b[1;36m0.2\u001b[0m\u001b[1;33m*\u001b[0m\u001b[0mgetW1Grad\u001b[0m\u001b[1;33m(\u001b[0m\u001b[0mq\u001b[0m\u001b[1;33m)\u001b[0m\u001b[1;33m\u001b[0m\u001b[0m\n",
      "\u001b[1;32m<ipython-input-19-a8f1216e7dec>\u001b[0m in \u001b[0;36mgetPseudoInverse\u001b[1;34m(J)\u001b[0m\n\u001b[0;32m      2\u001b[0m     \u001b[0mU\u001b[0m\u001b[1;33m,\u001b[0m \u001b[0mS\u001b[0m \u001b[1;33m,\u001b[0m\u001b[0mV_T\u001b[0m \u001b[1;33m=\u001b[0m \u001b[0mnp\u001b[0m\u001b[1;33m.\u001b[0m\u001b[0mlinalg\u001b[0m\u001b[1;33m.\u001b[0m\u001b[0msvd\u001b[0m\u001b[1;33m(\u001b[0m\u001b[0mJ\u001b[0m\u001b[1;33m)\u001b[0m\u001b[1;33m\u001b[0m\u001b[0m\n\u001b[0;32m      3\u001b[0m     \u001b[0mV\u001b[0m \u001b[1;33m=\u001b[0m \u001b[0mV_T\u001b[0m\u001b[1;33m.\u001b[0m\u001b[0mT\u001b[0m\u001b[1;33m\u001b[0m\u001b[0m\n\u001b[1;32m----> 4\u001b[1;33m     \u001b[0mS_inv\u001b[0m \u001b[1;33m=\u001b[0m \u001b[0mnp\u001b[0m\u001b[1;33m.\u001b[0m\u001b[0mlinalg\u001b[0m\u001b[1;33m.\u001b[0m\u001b[0minv\u001b[0m\u001b[1;33m(\u001b[0m\u001b[0mS\u001b[0m\u001b[1;33m)\u001b[0m\u001b[1;33m\u001b[0m\u001b[0m\n\u001b[0m\u001b[0;32m      5\u001b[0m     \u001b[1;32mreturn\u001b[0m \u001b[0mV\u001b[0m \u001b[1;33m*\u001b[0m \u001b[0mS_inv\u001b[0m \u001b[1;33m*\u001b[0m \u001b[0mU\u001b[0m\u001b[1;33m\u001b[0m\u001b[0m\n",
      "\u001b[1;32m~\\Anaconda3\\envs\\js-env\\lib\\site-packages\\numpy\\linalg\\linalg.py\u001b[0m in \u001b[0;36minv\u001b[1;34m(a)\u001b[0m\n\u001b[0;32m    505\u001b[0m     \"\"\"\n\u001b[0;32m    506\u001b[0m     \u001b[0ma\u001b[0m\u001b[1;33m,\u001b[0m \u001b[0mwrap\u001b[0m \u001b[1;33m=\u001b[0m \u001b[0m_makearray\u001b[0m\u001b[1;33m(\u001b[0m\u001b[0ma\u001b[0m\u001b[1;33m)\u001b[0m\u001b[1;33m\u001b[0m\u001b[0m\n\u001b[1;32m--> 507\u001b[1;33m     \u001b[0m_assertRankAtLeast2\u001b[0m\u001b[1;33m(\u001b[0m\u001b[0ma\u001b[0m\u001b[1;33m)\u001b[0m\u001b[1;33m\u001b[0m\u001b[0m\n\u001b[0m\u001b[0;32m    508\u001b[0m     \u001b[0m_assertNdSquareness\u001b[0m\u001b[1;33m(\u001b[0m\u001b[0ma\u001b[0m\u001b[1;33m)\u001b[0m\u001b[1;33m\u001b[0m\u001b[0m\n\u001b[0;32m    509\u001b[0m     \u001b[0mt\u001b[0m\u001b[1;33m,\u001b[0m \u001b[0mresult_t\u001b[0m \u001b[1;33m=\u001b[0m \u001b[0m_commonType\u001b[0m\u001b[1;33m(\u001b[0m\u001b[0ma\u001b[0m\u001b[1;33m)\u001b[0m\u001b[1;33m\u001b[0m\u001b[0m\n",
      "\u001b[1;32m~\\Anaconda3\\envs\\js-env\\lib\\site-packages\\numpy\\linalg\\linalg.py\u001b[0m in \u001b[0;36m_assertRankAtLeast2\u001b[1;34m(*arrays)\u001b[0m\n\u001b[0;32m    200\u001b[0m         \u001b[1;32mif\u001b[0m \u001b[0ma\u001b[0m\u001b[1;33m.\u001b[0m\u001b[0mndim\u001b[0m \u001b[1;33m<\u001b[0m \u001b[1;36m2\u001b[0m\u001b[1;33m:\u001b[0m\u001b[1;33m\u001b[0m\u001b[0m\n\u001b[0;32m    201\u001b[0m             raise LinAlgError('%d-dimensional array given. Array must be '\n\u001b[1;32m--> 202\u001b[1;33m                     'at least two-dimensional' % a.ndim)\n\u001b[0m\u001b[0;32m    203\u001b[0m \u001b[1;33m\u001b[0m\u001b[0m\n\u001b[0;32m    204\u001b[0m \u001b[1;32mdef\u001b[0m \u001b[0m_assertSquareness\u001b[0m\u001b[1;33m(\u001b[0m\u001b[1;33m*\u001b[0m\u001b[0marrays\u001b[0m\u001b[1;33m)\u001b[0m\u001b[1;33m:\u001b[0m\u001b[1;33m\u001b[0m\u001b[0m\n",
      "\u001b[1;31mLinAlgError\u001b[0m: 1-dimensional array given. Array must be at least two-dimensional"
     ]
    }
   ],
   "source": [
    "q = np.matrix([10,20,30,50]).T * math.pi/180\n",
    "plt.figure(1)\n",
    "plt.axis('equal')\n",
    "I = np.matrix([[1,0,0,0],[0,1,0,0],[0,0,1,0],[0,0,0,1]])\n",
    "\n",
    "#speed = np.linalg.norm(xDot)\n",
    "#print speed\n",
    "\n",
    "xDot = np.matrix([0,-1]).T\n",
    "#print xDot\n",
    "\n",
    "timeStep = 1.0/1000\n",
    "for t in range(1,130):\n",
    "\tJ = getJacobianMatrix(q)\n",
    "\tJPlus = getPseudoInverse(J)\n",
    "\t\n",
    "\tgrad = 0.2*getW1Grad(q)\n",
    "\t#temp = getMaxW1(q)\n",
    "\t#grad = np.matrix([float(temp[0][0]) , float(temp[0][1]), float(temp[0][2]) , float(temp[0][3])]).T\n",
    "\t\n",
    "\tqDot = JPlus * xDot + (I - JPlus*J)*grad\n",
    "\tq = q + (qDot * t * timeStep)\n",
    "\tx1 ,y1 , x2 , y2 , x3, y3, xEE, yEE = forwardKinematics(q)\n",
    "\tif t%10 == 0:\n",
    "\t\tplt.subplot(211)\n",
    "\t\tplt.plot([0,x1,x2,x3,xEE] , [0,y1,y2,y3,yEE], 'k')\n",
    "\tx = np.linalg.norm(qDot)\n",
    "\tplt.subplot(212)\n",
    "\tplt.plot(t,x,'bo',lw=2)\n",
    "\n",
    "xDot = np.matrix([-1,0]).T\n",
    "#print xDot\n",
    "\n",
    "timeStep = 1.0/1000\n",
    "for t in range(1,130):\n",
    "\tJ = getJacobianMatrix(q)\n",
    "\tJPlus = getPseudoInverse(J)\n",
    "\t\n",
    "\tgrad = 0.2*getW1Grad(q)\n",
    "\t#temp = getMaxW1(q)\n",
    "\t#grad = np.matrix([float(temp[0][0]) , float(temp[0][1]), float(temp[0][2]) , float(temp[0][3])]).T\n",
    "\t\n",
    "\tqDot = JPlus * xDot + (I - JPlus*J)*grad\n",
    "\tq = q + (qDot * t * timeStep)\n",
    "\tx1 ,y1 , x2 , y2 , x3, y3, xEE, yEE = forwardKinematics(q)\n",
    "\tif t%10 == 0:\n",
    "\t\tplt.subplot(211)\n",
    "\t\tplt.plot([0,x1,x2,x3,xEE] , [0,y1,y2,y3,yEE], 'k')\n",
    "\tx = np.linalg.norm(qDot)\n",
    "\tplt.subplot(212)\n",
    "\tplt.plot(t,x,'bo',lw=2)\n",
    "\n",
    "\n",
    "xDot = np.matrix([0,1]).T\n",
    "#print xDot\n",
    "\n",
    "timeStep = 1.0/1000\n",
    "for t in range(1,130):\n",
    "\tJ = getJacobianMatrix(q)\n",
    "\tJPlus = getPseudoInverse(J)\n",
    "\t\n",
    "\tgrad = 0.2*getW1Grad(q)\n",
    "\t#temp = getMaxW1(q)\n",
    "\t#grad = np.matrix([float(temp[0][0]) , float(temp[0][1]), float(temp[0][2]) , float(temp[0][3])]).T\n",
    "\t\n",
    "\tqDot = JPlus * xDot + (I - JPlus*J)*grad\n",
    "\tq = q + (qDot * t * timeStep)\n",
    "\tx1 ,y1 , x2 , y2 , x3, y3, xEE, yEE = forwardKinematics(q)\n",
    "\tif t%10 == 0:\n",
    "\t\tplt.subplot(211)\n",
    "\t\tplt.plot([0,x1,x2,x3,xEE] , [0,y1,y2,y3,yEE], 'k')\n",
    "\tx = np.linalg.norm(qDot)\n",
    "\tplt.subplot(212)\n",
    "\tplt.plot(t,x,'bo',lw=2)\n",
    "\n",
    "\n",
    "xDot = np.matrix([1,0]).T\n",
    "#print xDot\n",
    "\n",
    "timeStep = 1.0/1000\n",
    "for t in range(1,130):\n",
    "\tJ = getJacobianMatrix(q)\n",
    "\tJPlus = getPseudoInverse(J)\n",
    "\t\n",
    "\tgrad = 0.2*getW1Grad(q)\n",
    "\t#temp = getMaxW1(q)\n",
    "\t#grad = np.matrix([float(temp[0][0]) , float(temp[0][1]), float(temp[0][2]) , float(temp[0][3])]).T\n",
    "\t\n",
    "\tqDot = JPlus * xDot + (I - JPlus*J)*grad\n",
    "\tq = q + (qDot * t * timeStep)\n",
    "\tx1 ,y1 , x2 , y2 , x3, y3, xEE, yEE = forwardKinematics(q)\n",
    "\tif t%10 == 0:\n",
    "\t\tplt.subplot(211)\n",
    "\t\tplt.plot([0,x1,x2,x3,xEE] , [0,y1,y2,y3,yEE], 'k')\n",
    "\tx = np.linalg.norm(qDot)\n",
    "\tplt.subplot(212)\n",
    "\tplt.plot(t,x,'bo',lw=2)\n",
    "\n",
    "plt.show()\n"
   ]
  }
 ],
 "metadata": {
  "kernelspec": {
   "display_name": "Python 3",
   "language": "python",
   "name": "python3"
  },
  "language_info": {
   "codemirror_mode": {
    "name": "ipython",
    "version": 3
   },
   "file_extension": ".py",
   "mimetype": "text/x-python",
   "name": "python",
   "nbconvert_exporter": "python",
   "pygments_lexer": "ipython3",
   "version": "3.6.2"
  }
 },
 "nbformat": 4,
 "nbformat_minor": 2
}

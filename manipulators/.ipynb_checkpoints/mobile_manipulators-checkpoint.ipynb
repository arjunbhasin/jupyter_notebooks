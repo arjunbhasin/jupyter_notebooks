{
 "cells": [
  {
   "cell_type": "markdown",
   "metadata": {},
   "source": [
    "# Mobile Manipulators\n",
    "A mobile manipulator can be schematically represented as a kinematic chain of rigid links, connected by prismatic or revolute joints, mounted on a mobile platform. One end of the arm carries the End-Effector, which may be a tool or a gripper and the other end is constrained on the platform of the mobile manipulator. In short the mobile manipulator comprises of the arm and the platform subsystems. \n",
    "Kinematics is the study of the geometry and motion of linked rigid bodies without consideration of the cause of the motion (forces). Direct Kinematics allows the end-effector position and orientation to be written as a function of the joint angles of the system. Thus it is a mapping from the joint angle space to the operational space of the system, where joint angle space is the space of all possible joint angles of the system and the operational space is the space of end-effector position and orientation. Similarly the instantaneous kinematic mapping or the differential kinematic mapping maps the joint angle velocity space \n",
    "to the end-effector velocity space. "
   ]
  }
 ],
 "metadata": {
  "kernelspec": {
   "display_name": "Python 3",
   "language": "python",
   "name": "python3"
  },
  "language_info": {
   "codemirror_mode": {
    "name": "ipython",
    "version": 3
   },
   "file_extension": ".py",
   "mimetype": "text/x-python",
   "name": "python",
   "nbconvert_exporter": "python",
   "pygments_lexer": "ipython3",
   "version": "3.6.5"
  }
 },
 "nbformat": 4,
 "nbformat_minor": 2
}

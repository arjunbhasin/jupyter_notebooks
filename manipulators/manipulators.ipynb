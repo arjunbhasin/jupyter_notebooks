{
 "cells": [
  {
   "cell_type": "markdown",
   "metadata": {},
   "source": [
    "# Kinematic Modelling of Arm\n",
    "\n",
    "Consider a general case of 'n' rigid body links connected together to form a serial kinematic chain. Let the 'n'-dimensional configuration space of the manipulator be given by $$q_a = [q_{a_1} \\  q_{a_2} \\  \\ldots \\ q_{a_n}]^T$$ and let $$\\xi_a = [\\xi_{a_1} \\ \\xi_{a_2} \\ \\ldots \\ \\xi_{a_m}]^T$$ define the 'm'-dimensional operational space of the manipulator arm. \n",
    "\n",
    "In this study we consider a $3$ DOF PUMA like manipulator with no wrist mounted on a mobile platform. We also ignore the orientation of the end-effector and only consider its position in space. Hence both the configuration space and the operational space become $3$ dimensional.\n",
    "\n",
    "To find out the direct kinematic model of the arm, i.e. a mapping from the joint angle space to the operational space, appropriate frames must be places on the links as per the Denavit–Hartenberg convention \\cite{craig2005}. Table 3.1 shows the DH parameters for the $3$ DOF PUMA like arm and Figure 3.2(b) shows the assigned frames as per the convention."
   ]
  }
 ],
 "metadata": {
  "kernelspec": {
   "display_name": "Python 3",
   "language": "python",
   "name": "python3"
  },
  "language_info": {
   "codemirror_mode": {
    "name": "ipython",
    "version": 3
   },
   "file_extension": ".py",
   "mimetype": "text/x-python",
   "name": "python",
   "nbconvert_exporter": "python",
   "pygments_lexer": "ipython3",
   "version": "3.6.5"
  }
 },
 "nbformat": 4,
 "nbformat_minor": 2
}

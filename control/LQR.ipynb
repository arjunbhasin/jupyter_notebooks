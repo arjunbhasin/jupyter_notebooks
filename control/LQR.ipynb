{
 "cells": [
  {
   "cell_type": "code",
   "execution_count": 1,
   "metadata": {},
   "outputs": [],
   "source": [
    "import numpy as np"
   ]
  },
  {
   "cell_type": "markdown",
   "metadata": {},
   "source": [
    "$$\\dot{x}= Ax + Bu \\hspace{1cm} x \\in \\mathcal{R}^n, u \\in \\mathcal{R}^n$$\n",
    "$$J = \\int_{t_0}^{t_f} (x^T Q x + u^T R u) dt$$\n",
    "$$ K = R^{-1} B^{T} P(t)$$\n",
    "\n",
    "$$PA + A^{T} P - PBR^{-1}B^{T} P + Q = 0$$"
   ]
  },
  {
   "cell_type": "markdown",
   "metadata": {},
   "source": [
    "$$\\tau_1 = H_{11}\\ddot{\\theta_1} + H_{12} \\ddot{\\theta_2} - h \\dot{\\theta_1}^2 -2h \\dot{\\theta_1}\\dot{\\theta_2} + G_1$$\n",
    "$$\\tau_2 = H_{22}\\ddot{\\theta_2} + H_{21}\\ddot{\\theta_1} + h \\dot{\\theta_1}^2 + G_2$$\n",
    "\n",
    "$$H_{11} = m_1 l_{c_1}^2 + I_1 + m_2(l_1^2)$$"
   ]
  },
  {
   "cell_type": "markdown",
   "metadata": {},
   "source": [
    "$$ \\left[ \\begin{array}{c} \\dot{x_1} \\\\ \\dot{x_2} \\\\ \\dot{x_3} \\\\ \\dot{x_4} \\end{array} \\right]  = \\left[ \\begin{array}{cccc} 0 & 0 & 1 & 0 \\\\ 0 & 0 & 0 & 1 \\\\ 0 & 0 & 0 & 0 \\\\ 0 & 0 & 0 & 0 \\end{array} \\right] \\left[ \\begin{array}{c} x_1 \\\\  x_2 \\\\ \\ x_3 \\\\ x_4 \\end{array} \\right] + \\left[ \\begin{array}{cc}0 & 0 \\\\ 0 & 0 \\\\ M^{-1} \\end{array} \\right] \\left[ \\begin{array}{c} 0 \\\\ 0 \\\\ \\tau_1 \\\\ \\tau_2 \\end{array} \\right] $$"
   ]
  }
 ],
 "metadata": {
  "kernelspec": {
   "display_name": "Python 3",
   "language": "python",
   "name": "python3"
  },
  "language_info": {
   "codemirror_mode": {
    "name": "ipython",
    "version": 3
   },
   "file_extension": ".py",
   "mimetype": "text/x-python",
   "name": "python",
   "nbconvert_exporter": "python",
   "pygments_lexer": "ipython3",
   "version": "3.6.5"
  }
 },
 "nbformat": 4,
 "nbformat_minor": 2
}

{
 "cells": [
  {
   "cell_type": "code",
   "execution_count": 1,
   "metadata": {},
   "outputs": [],
   "source": [
    "import numpy as np"
   ]
  },
  {
   "cell_type": "markdown",
   "metadata": {},
   "source": [
    "$$\\dot{x}= Ax + Bu \\hspace{1cm} x \\in \\mathcal{R}^n, u \\in \\mathcal{R}^n$$\n",
    "$$J = \\int_{t_0}^{t_f} (x^T Q x + u^T R u) dt$$\n",
    "$$ K = R^{-1} B^{T} P(t)$$\n",
    "\n",
    "$$PA + A^{T} P - PBR^{-1}B^{T} P + Q = 0$$"
   ]
  },
  {
   "cell_type": "markdown",
   "metadata": {},
   "source": [
    "$$\\tau_1 = H_{11}\\ddot{\\theta_1} + H_{12} \\ddot{\\theta_2} - h \\dot{\\theta_1}^2 -2h \\dot{\\theta_1}\\dot{\\theta_2} + G_1$$\n",
    "$$\\tau_2 = H_{22}\\ddot{\\theta_2} + H_{21}\\ddot{\\theta_1} + h \\dot{\\theta_1}^2 + G_2$$\n",
    "\n",
    "$$H_{11} = m_1 l_{c_1}^2 + I_1 + m_2(l_1^2)$$"
   ]
  }
 ],
 "metadata": {
  "kernelspec": {
   "display_name": "Python 3",
   "language": "python",
   "name": "python3"
  },
  "language_info": {
   "codemirror_mode": {
    "name": "ipython",
    "version": 3
   },
   "file_extension": ".py",
   "mimetype": "text/x-python",
   "name": "python",
   "nbconvert_exporter": "python",
   "pygments_lexer": "ipython3",
   "version": "3.6.5"
  }
 },
 "nbformat": 4,
 "nbformat_minor": 2
}
